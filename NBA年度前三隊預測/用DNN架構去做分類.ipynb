{
 "cells": [
  {
   "cell_type": "code",
   "execution_count": 12,
   "metadata": {},
   "outputs": [],
   "source": [
    "import numpy as np\n",
    "import matplotlib.pyplot as plt\n",
    "import pandas as pd\n",
    "from sklearn.model_selection import train_test_split\n",
    "\n",
    "\n",
    "# standard process to build a deep learning model\n",
    "from tensorflow.keras.models import Sequential\n",
    "# Dense is Fully Connected Layer\n",
    "from tensorflow.keras.layers import Dense\n",
    "# Gradient Descent\n",
    "from tensorflow.keras.optimizers import SGD\n",
    "#one hot encoding\n",
    "from tensorflow.keras.utils import to_categorical"
   ]
  },
  {
   "cell_type": "code",
   "execution_count": 27,
   "metadata": {},
   "outputs": [
    {
     "name": "stdout",
     "output_type": "stream",
     "text": [
      "Model: \"sequential_5\"\n",
      "_________________________________________________________________\n",
      "Layer (type)                 Output Shape              Param #   \n",
      "=================================================================\n",
      "dense_15 (Dense)             (None, 100)               3400      \n",
      "_________________________________________________________________\n",
      "dense_16 (Dense)             (None, 100)               10100     \n",
      "_________________________________________________________________\n",
      "dense_17 (Dense)             (None, 2)                 202       \n",
      "=================================================================\n",
      "Total params: 13,702\n",
      "Trainable params: 13,702\n",
      "Non-trainable params: 0\n",
      "_________________________________________________________________\n"
     ]
    }
   ],
   "source": [
    "model = Sequential()\n",
    "model.add(Dense(100, input_dim=33, activation='relu'))\n",
    "model.add(Dense(100, activation='relu'))\n",
    "model.add(Dense(2, activation='softmax'))\n",
    "model.summary()"
   ]
  },
  {
   "cell_type": "code",
   "execution_count": 28,
   "metadata": {},
   "outputs": [],
   "source": [
    "model.compile(loss='categorical_crossentropy', optimizer='adam', \n",
    "              metrics=['accuracy'])"
   ]
  },
  {
   "cell_type": "code",
   "execution_count": 14,
   "metadata": {},
   "outputs": [],
   "source": [
    "final_data = pd.read_csv(r'/Users/andyhsu/Desktop/NBA年度前三隊預測/建模資料_用position/整合各年資料_改用position.csv',encoding='utf-8-sig')\n",
    "final_data = final_data.dropna(subset=['position'])"
   ]
  },
  {
   "cell_type": "code",
   "execution_count": 15,
   "metadata": {},
   "outputs": [],
   "source": [
    "資料 = ['GP', 'W', 'L', 'MIN', 'PTS', 'FGA', 'FG%', '3PA', '3P%', 'FTA', 'FT%','OREB', 'DREB', 'REB', 'AST', 'TOV', 'STL',\n",
    "        'BLK', 'PF', 'DD2', 'TD3', '+/-', '累積前三隊', '勝率', 'DFG_percent', 'DIFF_percent', 'C', 'C-F', 'F', 'F-C',\n",
    "        'F-G', 'G', 'G-F','Player','Team','position','當年有無入選']"
   ]
  },
  {
   "cell_type": "code",
   "execution_count": 16,
   "metadata": {},
   "outputs": [],
   "source": [
    "train_x,test_x,train_y,test_y = train_test_split(\n",
    "                final_data[資料].iloc[:,:-4].values,\n",
    "                final_data[資料].iloc[:,-1].values,\n",
    "                test_size=.3,\n",
    "                random_state=0,\n",
    "                stratify=final_data[資料].iloc[:,-1].values\n",
    "                )"
   ]
  },
  {
   "cell_type": "code",
   "execution_count": 29,
   "metadata": {},
   "outputs": [],
   "source": [
    "y_train = to_categorical(train_y, 2)\n",
    "y_test = to_categorical(test_y, 2)"
   ]
  },
  {
   "cell_type": "code",
   "execution_count": 30,
   "metadata": {},
   "outputs": [
    {
     "data": {
      "text/plain": [
       "array([[ 1.01135089,  1.17340878,  0.41543179, ...,  0.        ,\n",
       "         1.        ,  0.        ],\n",
       "       [ 1.03702661,  0.19622484,  1.42149518, ...,  0.        ,\n",
       "         0.        ,  0.        ],\n",
       "       [ 0.61104788, -0.23529174,  1.34428952, ...,  0.        ,\n",
       "         1.        ,  0.        ],\n",
       "       ...,\n",
       "       [ 1.09450984,  1.45774256,  0.34337763, ...,  0.        ,\n",
       "         1.        ,  0.        ],\n",
       "       [-1.97166712, -1.65449299, -1.44794502, ...,  0.        ,\n",
       "         0.        ,  0.        ],\n",
       "       [-0.29304   , -0.51361367,  0.06027027, ...,  0.        ,\n",
       "         1.        ,  0.        ]])"
      ]
     },
     "execution_count": 30,
     "metadata": {},
     "output_type": "execute_result"
    }
   ],
   "source": [
    "train_x"
   ]
  },
  {
   "cell_type": "code",
   "execution_count": 33,
   "metadata": {},
   "outputs": [
    {
     "name": "stdout",
     "output_type": "stream",
     "text": [
      "Train on 2814 samples\n",
      "Epoch 1/40\n",
      "2814/2814 [==============================] - 0s 45us/sample - loss: 0.0136 - accuracy: 0.9950\n",
      "Epoch 2/40\n",
      "2814/2814 [==============================] - 0s 80us/sample - loss: 0.0144 - accuracy: 0.9936\n",
      "Epoch 3/40\n",
      "2814/2814 [==============================] - 0s 53us/sample - loss: 0.0106 - accuracy: 0.9964\n",
      "Epoch 4/40\n",
      "2814/2814 [==============================] - 0s 39us/sample - loss: 0.0095 - accuracy: 0.9968\n",
      "Epoch 5/40\n",
      "2814/2814 [==============================] - 0s 34us/sample - loss: 0.0095 - accuracy: 0.9957\n",
      "Epoch 6/40\n",
      "2814/2814 [==============================] - 0s 37us/sample - loss: 0.0108 - accuracy: 0.9954\n",
      "Epoch 7/40\n",
      "2814/2814 [==============================] - 0s 35us/sample - loss: 0.0084 - accuracy: 0.9979\n",
      "Epoch 8/40\n",
      "2814/2814 [==============================] - 0s 36us/sample - loss: 0.0087 - accuracy: 0.9972\n",
      "Epoch 9/40\n",
      "2814/2814 [==============================] - 0s 35us/sample - loss: 0.0072 - accuracy: 0.9975\n",
      "Epoch 10/40\n",
      "2814/2814 [==============================] - 0s 34us/sample - loss: 0.0057 - accuracy: 0.9989\n",
      "Epoch 11/40\n",
      "2814/2814 [==============================] - 0s 35us/sample - loss: 0.0047 - accuracy: 0.9993\n",
      "Epoch 12/40\n",
      "2814/2814 [==============================] - 0s 36us/sample - loss: 0.0064 - accuracy: 0.9979\n",
      "Epoch 13/40\n",
      "2814/2814 [==============================] - 0s 37us/sample - loss: 0.0045 - accuracy: 0.9996\n",
      "Epoch 14/40\n",
      "2814/2814 [==============================] - 0s 43us/sample - loss: 0.0042 - accuracy: 0.9989\n",
      "Epoch 15/40\n",
      "2814/2814 [==============================] - 0s 42us/sample - loss: 0.0042 - accuracy: 0.9989\n",
      "Epoch 16/40\n",
      "2814/2814 [==============================] - 0s 38us/sample - loss: 0.0044 - accuracy: 0.9989\n",
      "Epoch 17/40\n",
      "2814/2814 [==============================] - 0s 36us/sample - loss: 0.0040 - accuracy: 0.9996\n",
      "Epoch 18/40\n",
      "2814/2814 [==============================] - 0s 41us/sample - loss: 0.0034 - accuracy: 1.0000\n",
      "Epoch 19/40\n",
      "2814/2814 [==============================] - 0s 42us/sample - loss: 0.0031 - accuracy: 1.0000\n",
      "Epoch 20/40\n",
      "2814/2814 [==============================] - 0s 41us/sample - loss: 0.0030 - accuracy: 0.9993\n",
      "Epoch 21/40\n",
      "2814/2814 [==============================] - 0s 39us/sample - loss: 0.0029 - accuracy: 1.0000\n",
      "Epoch 22/40\n",
      "2814/2814 [==============================] - 0s 40us/sample - loss: 0.0028 - accuracy: 1.0000\n",
      "Epoch 23/40\n",
      "2814/2814 [==============================] - 0s 33us/sample - loss: 0.0029 - accuracy: 1.0000\n",
      "Epoch 24/40\n",
      "2814/2814 [==============================] - 0s 36us/sample - loss: 0.0028 - accuracy: 0.9993\n",
      "Epoch 25/40\n",
      "2814/2814 [==============================] - 0s 36us/sample - loss: 0.0022 - accuracy: 1.0000\n",
      "Epoch 26/40\n",
      "2814/2814 [==============================] - 0s 34us/sample - loss: 0.0019 - accuracy: 1.0000\n",
      "Epoch 27/40\n",
      "2814/2814 [==============================] - 0s 36us/sample - loss: 0.0017 - accuracy: 1.0000\n",
      "Epoch 28/40\n",
      "2814/2814 [==============================] - 0s 38us/sample - loss: 0.0017 - accuracy: 1.0000\n",
      "Epoch 29/40\n",
      "2814/2814 [==============================] - 0s 37us/sample - loss: 0.0017 - accuracy: 1.0000\n",
      "Epoch 30/40\n",
      "2814/2814 [==============================] - 0s 35us/sample - loss: 0.0015 - accuracy: 1.0000\n",
      "Epoch 31/40\n",
      "2814/2814 [==============================] - 0s 33us/sample - loss: 0.0014 - accuracy: 1.0000\n",
      "Epoch 32/40\n",
      "2814/2814 [==============================] - 0s 34us/sample - loss: 0.0015 - accuracy: 1.0000\n",
      "Epoch 33/40\n",
      "2814/2814 [==============================] - 0s 36us/sample - loss: 0.0011 - accuracy: 1.0000\n",
      "Epoch 34/40\n",
      "2814/2814 [==============================] - 0s 43us/sample - loss: 0.0011 - accuracy: 1.0000\n",
      "Epoch 35/40\n",
      "2814/2814 [==============================] - 0s 43us/sample - loss: 9.1832e-04 - accuracy: 1.0000\n",
      "Epoch 36/40\n",
      "2814/2814 [==============================] - 0s 39us/sample - loss: 9.5101e-04 - accuracy: 1.0000\n",
      "Epoch 37/40\n",
      "2814/2814 [==============================] - 0s 39us/sample - loss: 8.5289e-04 - accuracy: 1.0000\n",
      "Epoch 38/40\n",
      "2814/2814 [==============================] - 0s 36us/sample - loss: 8.1035e-04 - accuracy: 1.0000\n",
      "Epoch 39/40\n",
      "2814/2814 [==============================] - 0s 35us/sample - loss: 0.0010 - accuracy: 1.0000\n",
      "Epoch 40/40\n",
      "2814/2814 [==============================] - 0s 36us/sample - loss: 7.6423e-04 - accuracy: 1.0000\n"
     ]
    },
    {
     "data": {
      "text/plain": [
       "<tensorflow.python.keras.callbacks.History at 0x7fddd050d240>"
      ]
     },
     "execution_count": 33,
     "metadata": {},
     "output_type": "execute_result"
    }
   ],
   "source": [
    "model.fit(train_x, y_train, batch_size=100, epochs=40)"
   ]
  },
  {
   "cell_type": "code",
   "execution_count": 34,
   "metadata": {},
   "outputs": [
    {
     "data": {
      "text/plain": [
       "array([[1.00000000e+00, 7.17232038e-11],\n",
       "       [1.00000000e+00, 4.60543914e-09],\n",
       "       [1.00000000e+00, 1.27675146e-17],\n",
       "       ...,\n",
       "       [1.00000000e+00, 3.63456254e-13],\n",
       "       [1.00000000e+00, 1.68961937e-16],\n",
       "       [1.00000000e+00, 4.32125505e-16]], dtype=float32)"
      ]
     },
     "execution_count": 34,
     "metadata": {},
     "output_type": "execute_result"
    }
   ],
   "source": [
    "model.predict(train_x)"
   ]
  },
  {
   "cell_type": "code",
   "execution_count": null,
   "metadata": {},
   "outputs": [],
   "source": []
  }
 ],
 "metadata": {
  "interpreter": {
   "hash": "40d3a090f54c6569ab1632332b64b2c03c39dcf918b08424e98f38b5ae0af88f"
  },
  "kernelspec": {
   "display_name": "Python 3.8.5 ('base')",
   "language": "python",
   "name": "python3"
  },
  "language_info": {
   "codemirror_mode": {
    "name": "ipython",
    "version": 3
   },
   "file_extension": ".py",
   "mimetype": "text/x-python",
   "name": "python",
   "nbconvert_exporter": "python",
   "pygments_lexer": "ipython3",
   "version": "3.6.13"
  },
  "orig_nbformat": 4
 },
 "nbformat": 4,
 "nbformat_minor": 2
}
