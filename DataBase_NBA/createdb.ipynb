{
 "cells": [
  {
   "cell_type": "code",
   "execution_count": 1,
   "metadata": {},
   "outputs": [],
   "source": [
    "import requests\n",
    "import selenium\n",
    "from selenium import webdriver\n",
    "from selenium.webdriver.support.ui import Select\n",
    "from selenium.webdriver.common.keys import Keys\n",
    "import bs4\n",
    "\n",
    "import re\n",
    "import time\n",
    "\n",
    "import pandas as pd\n",
    "import warnings\n",
    "warnings.filterwarnings('ignore')\n",
    "\n",
    "import pymysql"
   ]
  },
  {
   "cell_type": "markdown",
   "metadata": {},
   "source": [
    "# 找到所有全員的id存入testdb中的player_info表格"
   ]
  },
  {
   "cell_type": "code",
   "execution_count": 73,
   "metadata": {},
   "outputs": [],
   "source": [
    "#將所有球員的id抓起來放在database\n",
    "all_player_info = []\n",
    "count = 1\n",
    "path   = r'/Users/andyhsu/Desktop/NBA/chromedriver'\n",
    "driver = webdriver.Chrome(path)\n",
    "url = 'https://www.nba.com/players'\n",
    "driver.get(url)\n",
    "time.sleep(5)\n",
    "選單 = Select(driver.find_element_by_xpath('//select[@class=\"DropDown_select__5Rjt0\" and @title=\"Page Number Selection Drown Down List\"]'))\n",
    "選單.select_by_value(\"-1\")\n",
    "大表 = driver.find_element_by_xpath('//table[@class=\"players-list\"]')\n",
    "球員列表 = 大表.find_elements_by_xpath('./tbody/tr')\n",
    "for 球員資料 in 球員列表:\n",
    "    球員_info = []\n",
    "    href        = 球員資料.find_element_by_xpath('./td/a').get_attribute('href')\n",
    "    player_id   = re.search('\\d+',href)\n",
    "    球員姓名 = 球員資料.find_element_by_xpath('./td/a/div[@class=\"flex flex-col lg:flex-row\"]/p[@class=\"t6 mr-1\"]').text +' '+\\\n",
    "            球員資料.find_element_by_xpath('./td/a/div[@class=\"flex flex-col lg:flex-row\"]/p[@class=\"t6\"]').text\n",
    "    球員_info.append(球員姓名)\n",
    "    球員_info.append(player_id[0])\n",
    "    all_player_info.append(球員_info)\n",
    "    count+=1\n",
    "driver.close()\n"
   ]
  },
  {
   "cell_type": "code",
   "execution_count": 79,
   "metadata": {},
   "outputs": [
    {
     "name": "stdout",
     "output_type": "stream",
     "text": [
      "CREATE TABLE OK\n"
     ]
    }
   ],
   "source": [
    "db = pymysql.connect(host = \"localhost\", user = \"root\", password = \"airflow\", db = \"testdb\" )\n",
    "cursor = db.cursor()\n",
    "cursor.execute(\"DROP TABLE IF EXISTS PLAYER_INFO\")\n",
    "sql = \"\"\"CREATE TABLE PLAYER_INFO (\n",
    "         NAME  CHAR(50) NOT NULL,\n",
    "         ID CHAR(30))\"\"\"\n",
    "cursor.execute(sql)\n",
    "print(\"CREATE TABLE OK\")\n",
    "cursor.close()\n",
    "db.close()"
   ]
  },
  {
   "cell_type": "code",
   "execution_count": 81,
   "metadata": {},
   "outputs": [
    {
     "name": "stdout",
     "output_type": "stream",
     "text": [
      "618 was inserted.\n"
     ]
    }
   ],
   "source": [
    "id_records = [tuple (x) for x in all_player_info]\n",
    "db = pymysql.connect(host = \"localhost\", user = \"root\", password = \"airflow\", db = \"testdb\" )\n",
    "#要新增或修改資料庫內容要呼叫的指標物件\n",
    "mycursor = db.cursor()\n",
    "\n",
    "sql = \"\"\"INSERT INTO PLAYER_INFO (NAME, ID) VALUES (%s, %s)\"\"\"\n",
    "val = id_records\n",
    "\n",
    "mycursor.executemany(sql, val)\n",
    "\n",
    "#提交任務\n",
    "db.commit()\n",
    "print(mycursor.rowcount, \"was inserted.\")\n",
    "\n",
    "mycursor.close()\n",
    "db.close()"
   ]
  },
  {
   "cell_type": "markdown",
   "metadata": {},
   "source": [
    "# select from in "
   ]
  },
  {
   "cell_type": "code",
   "execution_count": 35,
   "metadata": {},
   "outputs": [
    {
     "name": "stdout",
     "output_type": "stream",
     "text": [
      "SELECT ID FROM PLAYER_INFO WHERE NAME IN ('Grayson Allen', 'Jarrett Allen')\n"
     ]
    },
    {
     "data": {
      "text/plain": [
       "(('1628960',), ('1628386',))"
      ]
     },
     "execution_count": 35,
     "metadata": {},
     "output_type": "execute_result"
    }
   ],
   "source": [
    "db = pymysql.connect(host = \"localhost\", user = \"root\", password = \"airflow\", db = \"testdb\" )\n",
    "#要新增或修改資料庫內容要呼叫的指標物件\n",
    "mycursor = db.cursor()\n",
    "\n",
    "var = ['Grayson Allen','Jarrett Allen',]\n",
    "\n",
    "#map把list內都變成str再轉成tuple後續用repr成為解釋器讀得懂的東西\n",
    "sql = f\"\"\"SELECT ID FROM PLAYER_INFO WHERE NAME IN {repr(tuple(map(str, var)))}\"\"\"\n",
    "\n",
    "print(sql)\n",
    "\n",
    "mycursor.execute(sql)\n",
    "\n",
    "mycursor.fetchall()"
   ]
  },
  {
   "cell_type": "code",
   "execution_count": 83,
   "metadata": {},
   "outputs": [
    {
     "name": "stdout",
     "output_type": "stream",
     "text": [
      "203500\n",
      "1\n"
     ]
    }
   ],
   "source": [
    "db = pymysql.connect(host = \"localhost\", user = \"root\", password = \"airflow\", db = \"testdb\" )\n",
    "#要新增或修改資料庫內容要呼叫的指標物件\n",
    "mycursor = db.cursor()\n",
    "\n",
    "sql = \"\"\"SELECT ID FROM PLAYER_INFO WHERE NAME = 'Steven Adams'\"\"\"\n",
    "\n",
    "mycursor.execute(sql)\n",
    "\n",
    "#提交任務\n",
    "print(mycursor.fetchone()[0])\n",
    "print(mycursor.rowcount)\n",
    "\n",
    "mycursor.close()\n",
    "db.close()"
   ]
  },
  {
   "cell_type": "markdown",
   "metadata": {},
   "source": [
    "# 抓球員近50場的資料，並存入FOCUS_PLAYER的表格"
   ]
  },
  {
   "cell_type": "code",
   "execution_count": 57,
   "metadata": {},
   "outputs": [],
   "source": [
    "path   = r'/Users/andyhsu/Desktop/NBA/chromedriver'\n",
    "class NBA:\n",
    "    def __init__(self,player):\n",
    "        self.player = player\n",
    "\n",
    "    def get_player_id(self,player_name):\n",
    "        driver = webdriver.Chrome(path)\n",
    "        url = 'https://www.nba.com/players'\n",
    "        driver.get(url)\n",
    "        time.sleep(5)\n",
    "        選單 = Select(driver.find_element_by_xpath('//select[@class=\"DropDown_select__5Rjt0\" and @title=\"Page Number Selection Drown Down List\"]'))\n",
    "        選單.select_by_value(\"-1\")\n",
    "        大表 = driver.find_element_by_xpath('//table[@class=\"players-list\"]')\n",
    "        球員列表 = 大表.find_elements_by_xpath('./tbody/tr')\n",
    "        for 球員資料 in 球員列表:\n",
    "            href        = 球員資料.find_element_by_xpath('./td/a').get_attribute('href')\n",
    "            player_id   = re.search('\\d+',href)\n",
    "            球員姓名 = 球員資料.find_element_by_xpath('./td/a/div[@class=\"flex flex-col lg:flex-row\"]/p[@class=\"t6 mr-1\"]').text +' '+\\\n",
    "                    球員資料.find_element_by_xpath('./td/a/div[@class=\"flex flex-col lg:flex-row\"]/p[@class=\"t6\"]').text\n",
    "            if 球員姓名 == player_name:\n",
    "                break\n",
    "        driver.close()\n",
    "        return player_id[0]\n",
    "\n",
    "    def get_current_data(self,player_id):\n",
    "        driver = webdriver.Chrome(path)\n",
    "        url         = 'https://www.nba.com/stats/player/'+ str(player_id)+ '/boxscores-traditional'\n",
    "\n",
    "\n",
    "        url_text    = requests.get(url).text\n",
    "\n",
    "        url_parse   = bs4.BeautifulSoup(url_text,\"lxml\")\n",
    "\n",
    "        player_info = url_parse.find('div',class_='flex flex-col text-white')\n",
    "\n",
    "        name        = []\n",
    "        for p in player_info.find_all('p',class_='PlayerSummary_playerNameText__K7ZXO'):\n",
    "            name.append(p.text)\n",
    "\n",
    "        print(name)\n",
    "        player_name = (' ').join(name)\n",
    "\n",
    "        driver.get(url)\n",
    "        time.sleep(3)\n",
    "\n",
    "        標題資料    = []\n",
    "        標題行   = driver.find_elements_by_xpath('//tr[@class = \"Crom_headers__QJmqP\"]/th')\n",
    "        for 標題 in 標題行:\n",
    "            標題資料.append(標題.text)\n",
    "\n",
    "\n",
    "\n",
    "\n",
    "        表格    = driver.find_element_by_xpath('//tbody[@class = \"Crom_body__2rqCI\"]')\n",
    "\n",
    "\n",
    "\n",
    "\n",
    "        每行資料 = 表格.find_elements_by_xpath('./tr')\n",
    "\n",
    "\n",
    "        all_data = []\n",
    "\n",
    "        for row in 每行資料:\n",
    "            row_data      = []\n",
    "            every_td_data = row.find_elements_by_xpath('./td')\n",
    "            for index,data in enumerate(every_td_data):\n",
    "                if index == 0:\n",
    "                    correct_data = data.find_element_by_xpath('./a').text\n",
    "\n",
    "                else:\n",
    "                    correct_data = data.text\n",
    "                row_data.append(correct_data)\n",
    "            all_data.append(row_data)\n",
    "\n",
    "        driver.close()\n",
    "        return pd.DataFrame(all_data,columns = 標題資料)\n",
    "\n",
    "    def current_50_avg(self,df):\n",
    "        cur_50 = []\n",
    "        cur_50.append(self.player)\n",
    "        cur_50.append(round(df['MIN'].astype(int).mean(),2))\n",
    "        cur_50.append(round(df['PTS'].astype(int).mean(),2))\n",
    "        cur_50.append(round(df['REB'].astype(int).mean(),2))\n",
    "        cur_50.append(round(df['AST'].astype(int).mean(),2))\n",
    "        cur_50.append(round(df['STL'].astype(int).mean(),2))\n",
    "        cur_50.append(round(df['BLK'].astype(int).mean(),2))\n",
    "        cur_50.append(round(df['TOV'].astype(int).mean(),2))\n",
    "        return cur_50\n",
    "    "
   ]
  },
  {
   "cell_type": "code",
   "execution_count": 64,
   "metadata": {},
   "outputs": [
    {
     "name": "stdout",
     "output_type": "stream",
     "text": [
      "1630163\n",
      "['LaMelo', 'Ball']\n",
      "203507\n",
      "['Giannis', 'Antetokounmpo']\n",
      "1628366\n",
      "['Lonzo', 'Ball']\n",
      "203999\n",
      "['Nikola', 'Jokic']\n"
     ]
    }
   ],
   "source": [
    "players = ['LaMelo Ball', 'Giannis Antetokounmpo', 'Lonzo Ball', 'Nikola Jokic']\n",
    "all_data = []\n",
    "for player in players:\n",
    "    sd = NBA(player)\n",
    "    player_id = sd.get_player_id(sd.player)\n",
    "    print(player_id)\n",
    "    data      = sd.get_current_data(player_id)\n",
    "    current_data = sd.current_50_avg(data)\n",
    "    all_data.append(current_data)"
   ]
  },
  {
   "cell_type": "code",
   "execution_count": 65,
   "metadata": {},
   "outputs": [
    {
     "data": {
      "text/plain": [
       "[['LaMelo Ball', 31.88, 20.06, 6.12, 7.28, 1.44, 0.4, 3.18],\n",
       " ['Giannis Antetokounmpo', 33.04, 30.9, 11.5, 5.72, 1.04, 1.18, 3.3],\n",
       " ['Lonzo Ball',\n",
       "  34.65714285714286,\n",
       "  13.0,\n",
       "  5.428571428571429,\n",
       "  5.085714285714285,\n",
       "  1.8285714285714285,\n",
       "  0.8857142857142857,\n",
       "  2.342857142857143],\n",
       " ['Nikola Jokic', 33.82, 27.46, 13.92, 8.1, 1.54, 0.92, 3.98]]"
      ]
     },
     "execution_count": 65,
     "metadata": {},
     "output_type": "execute_result"
    }
   ],
   "source": [
    "all_data"
   ]
  },
  {
   "cell_type": "code",
   "execution_count": 66,
   "metadata": {},
   "outputs": [
    {
     "name": "stdout",
     "output_type": "stream",
     "text": [
      "CREATE TABLE OK\n"
     ]
    }
   ],
   "source": [
    "# 開啟資料庫連線\n",
    "db = pymysql.connect(host = \"localhost\", user = \"root\", password = \"airflow\", db = \"testdb\" )\n",
    "# 使用 cursor() 方法建立一個遊標物件 cursor\n",
    "cursor = db.cursor()\n",
    "# 使用 execute() 方法執行 SQL，如果表存在則刪除\n",
    "cursor.execute(\"DROP TABLE IF EXISTS FOCUS_PLAYER\")\n",
    "# 使用預處理語句建立表\n",
    "sql = \"\"\"CREATE TABLE FOCUS_PLAYER (\n",
    "         NAME  CHAR(30) NOT NULL,\n",
    "         MIN FLOAT(5,3),\n",
    "         POINT FLOAT(4,2),  \n",
    "         REB FLOAT(4,2),\n",
    "         ASS FLOAT(4,2),\n",
    "         STL FLOAT(4,2),\n",
    "         BLK FLOAT(4,2),\n",
    "         TOV FLOAT(4,2) )\"\"\"\n",
    "cursor.execute(sql)\n",
    "print(\"CREATE TABLE OK\")\n",
    "# 關閉資料庫連線\n",
    "db.close()\n",
    "# 修改表內資料才需要commit\n"
   ]
  },
  {
   "cell_type": "code",
   "execution_count": 67,
   "metadata": {},
   "outputs": [
    {
     "name": "stdout",
     "output_type": "stream",
     "text": [
      "('LaMelo Ball', 31.88, 20.06, 6.12, 7.28, 1.44, 0.4, 3.18)\n",
      "('Giannis Antetokounmpo', 33.04, 30.9, 11.5, 5.72, 1.04, 1.18, 3.3)\n",
      "('Lonzo Ball', 34.65714285714286, 13.0, 5.428571428571429, 5.085714285714285, 1.8285714285714285, 0.8857142857142857, 2.342857142857143)\n",
      "('Nikola Jokic', 33.82, 27.46, 13.92, 8.1, 1.54, 0.92, 3.98)\n"
     ]
    }
   ],
   "source": [
    "records = []\n",
    "for x in all_data:\n",
    "    print(tuple(x))\n",
    "    records.append(tuple(x))"
   ]
  },
  {
   "cell_type": "code",
   "execution_count": 68,
   "metadata": {},
   "outputs": [
    {
     "name": "stdout",
     "output_type": "stream",
     "text": [
      "4 was inserted.\n"
     ]
    }
   ],
   "source": [
    "db = pymysql.connect(host = \"localhost\", user = \"root\", password = \"airflow\", db = \"testdb\" )\n",
    "#要新增或修改資料庫內容要呼叫的指標物件\n",
    "mycursor = db.cursor()\n",
    "\n",
    "sql = \"\"\"INSERT INTO FOCUS_PLAYER (NAME, MIN, POINT, REB, ASS, STL, BLK, TOV) VALUES (%s, %s, %s, %s, %s, %s, %s, %s)\"\"\"\n",
    "val = records\n",
    "\n",
    "mycursor.executemany(sql, val)\n",
    "\n",
    "#提交任務\n",
    "db.commit()\n",
    "print(mycursor.rowcount, \"was inserted.\")\n",
    "\n",
    "mycursor.close()\n",
    "db.close()"
   ]
  },
  {
   "cell_type": "code",
   "execution_count": 61,
   "metadata": {},
   "outputs": [],
   "source": []
  },
  {
   "cell_type": "code",
   "execution_count": null,
   "metadata": {},
   "outputs": [],
   "source": []
  }
 ],
 "metadata": {
  "interpreter": {
   "hash": "40d3a090f54c6569ab1632332b64b2c03c39dcf918b08424e98f38b5ae0af88f"
  },
  "kernelspec": {
   "display_name": "Python 3.8.5 ('base')",
   "language": "python",
   "name": "python3"
  },
  "language_info": {
   "codemirror_mode": {
    "name": "ipython",
    "version": 3
   },
   "file_extension": ".py",
   "mimetype": "text/x-python",
   "name": "python",
   "nbconvert_exporter": "python",
   "pygments_lexer": "ipython3",
   "version": "3.8.5"
  },
  "orig_nbformat": 4
 },
 "nbformat": 4,
 "nbformat_minor": 2
}
